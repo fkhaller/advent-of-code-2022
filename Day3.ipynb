{
 "cells": [
  {
   "cell_type": "code",
   "execution_count": 76,
   "metadata": {},
   "outputs": [],
   "source": [
    "with open('input3.txt') as f:\n",
    "    input = f.read().splitlines() "
   ]
  },
  {
   "cell_type": "code",
   "execution_count": 77,
   "metadata": {},
   "outputs": [],
   "source": [
    "def getPriority(char):\n",
    "    if char.isupper():\n",
    "        return ord(char) - 38\n",
    "    else:\n",
    "        return ord(char) - 96"
   ]
  },
  {
   "cell_type": "code",
   "execution_count": 78,
   "metadata": {},
   "outputs": [],
   "source": [
    "result = 0\n",
    "for rucksack in input:\n",
    "    length = len(rucksack)\n",
    "    middle = int(length/2)\n",
    "    compartment1 = rucksack[:middle]\n",
    "    compartment2 = rucksack[middle:length]\n",
    "    for char in compartment1:\n",
    "        if char in compartment2:\n",
    "            result += getPriority(char)\n",
    "            break"
   ]
  },
  {
   "cell_type": "code",
   "execution_count": 79,
   "metadata": {},
   "outputs": [
    {
     "data": {
      "text/plain": [
       "1"
      ]
     },
     "execution_count": 79,
     "metadata": {},
     "output_type": "execute_result"
    }
   ],
   "source": [
    "ord('a') - 96"
   ]
  },
  {
   "cell_type": "code",
   "execution_count": 80,
   "metadata": {},
   "outputs": [
    {
     "data": {
      "text/plain": [
       "27"
      ]
     },
     "execution_count": 80,
     "metadata": {},
     "output_type": "execute_result"
    }
   ],
   "source": [
    "ord('A') - 38"
   ]
  },
  {
   "cell_type": "code",
   "execution_count": 81,
   "metadata": {},
   "outputs": [
    {
     "data": {
      "text/plain": [
       "7821"
      ]
     },
     "execution_count": 81,
     "metadata": {},
     "output_type": "execute_result"
    }
   ],
   "source": [
    "result"
   ]
  },
  {
   "cell_type": "code",
   "execution_count": 84,
   "metadata": {},
   "outputs": [],
   "source": [
    "result = 0\n",
    "group = []\n",
    "groupSize = 3\n",
    "elfInGroup = 0\n",
    "for rucksack in input:\n",
    "    if (elfInGroup == groupSize):\n",
    "        group.clear()\n",
    "        elfInGroup = 0\n",
    "    group.append(rucksack)\n",
    "    if (elfInGroup == groupSize - 1):\n",
    "        for char in group[0]:\n",
    "            if char in group[1] and char in group[2]:\n",
    "                result += getPriority(char)\n",
    "                break\n",
    "    elfInGroup+=1\n",
    "        "
   ]
  },
  {
   "cell_type": "code",
   "execution_count": 85,
   "metadata": {},
   "outputs": [
    {
     "data": {
      "text/plain": [
       "2752"
      ]
     },
     "execution_count": 85,
     "metadata": {},
     "output_type": "execute_result"
    }
   ],
   "source": [
    "result"
   ]
  },
  {
   "cell_type": "code",
   "execution_count": null,
   "metadata": {},
   "outputs": [],
   "source": []
  }
 ],
 "metadata": {
  "kernelspec": {
   "display_name": "Python 3",
   "language": "python",
   "name": "python3"
  },
  "language_info": {
   "codemirror_mode": {
    "name": "ipython",
    "version": 3
   },
   "file_extension": ".py",
   "mimetype": "text/x-python",
   "name": "python",
   "nbconvert_exporter": "python",
   "pygments_lexer": "ipython3",
   "version": "3.7.4"
  }
 },
 "nbformat": 4,
 "nbformat_minor": 4
}
