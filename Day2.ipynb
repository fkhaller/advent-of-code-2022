{
 "cells": [
  {
   "cell_type": "code",
   "execution_count": 46,
   "metadata": {},
   "outputs": [],
   "source": [
    "with open('input2.txt') as f:\n",
    "    input = f.read().splitlines() "
   ]
  },
  {
   "cell_type": "code",
   "execution_count": 47,
   "metadata": {},
   "outputs": [],
   "source": [
    "points = 0"
   ]
  },
  {
   "cell_type": "code",
   "execution_count": 48,
   "metadata": {},
   "outputs": [],
   "source": [
    "for round in input:\n",
    "    choice = round.split(' ')\n",
    "    if (choice[0] == 'A' and choice[1] == 'Y'):\n",
    "        points += 6\n",
    "    elif (choice[0] == 'B' and choice[1] == 'Z'):\n",
    "        points += 6\n",
    "    elif (choice[0] == 'C' and choice[1] == 'X'):\n",
    "        points += 6\n",
    "    if (choice[0] == 'A' and choice[1] == 'X'):\n",
    "        points += 3\n",
    "    elif (choice[0] == 'B' and choice[1] == 'Y'):\n",
    "        points += 3\n",
    "    elif (choice[0] == 'C' and choice[1] == 'Z'):\n",
    "        points += 3\n",
    "    if (choice[1] == 'X'):\n",
    "        points += 1\n",
    "    if (choice[1] == 'Y'):\n",
    "        points += 2\n",
    "    if (choice[1] == 'Z'):\n",
    "        points += 3\n",
    "    "
   ]
  },
  {
   "cell_type": "code",
   "execution_count": 49,
   "metadata": {},
   "outputs": [
    {
     "data": {
      "text/plain": [
       "12535"
      ]
     },
     "execution_count": 49,
     "metadata": {},
     "output_type": "execute_result"
    }
   ],
   "source": [
    "points"
   ]
  },
  {
   "cell_type": "code",
   "execution_count": 50,
   "metadata": {},
   "outputs": [],
   "source": [
    "points = 0"
   ]
  },
  {
   "cell_type": "code",
   "execution_count": 51,
   "metadata": {},
   "outputs": [],
   "source": [
    "for round in input:\n",
    "    choice = round.split(' ')\n",
    "    if (choice[0] == 'A'):\n",
    "        if (choice[1] == 'X'):\n",
    "            points += 3\n",
    "        if (choice[1] == 'Y'):\n",
    "            points += 1\n",
    "        if (choice[1] == 'Z'):\n",
    "            points += 2\n",
    "    elif (choice[0] == 'B'):\n",
    "        if (choice[1] == 'X'):\n",
    "            points += 1\n",
    "        if (choice[1] == 'Y'):\n",
    "            points += 2\n",
    "        if (choice[1] == 'Z'):\n",
    "            points += 3\n",
    "    elif (choice[0] == 'C'):\n",
    "        if (choice[1] == 'X'):\n",
    "            points += 2\n",
    "        if (choice[1] == 'Y'):\n",
    "            points += 3\n",
    "        if (choice[1] == 'Z'):\n",
    "            points += 1\n",
    "    if (choice[1] == 'Y'):\n",
    "        points += 3\n",
    "    if (choice[1] == 'Z'):\n",
    "        points += 6"
   ]
  },
  {
   "cell_type": "code",
   "execution_count": 52,
   "metadata": {},
   "outputs": [
    {
     "data": {
      "text/plain": [
       "15457"
      ]
     },
     "execution_count": 52,
     "metadata": {},
     "output_type": "execute_result"
    }
   ],
   "source": [
    "points"
   ]
  }
 ],
 "metadata": {
  "kernelspec": {
   "display_name": "Python 3",
   "language": "python",
   "name": "python3"
  },
  "language_info": {
   "codemirror_mode": {
    "name": "ipython",
    "version": 3
   },
   "file_extension": ".py",
   "mimetype": "text/x-python",
   "name": "python",
   "nbconvert_exporter": "python",
   "pygments_lexer": "ipython3",
   "version": "3.7.4"
  }
 },
 "nbformat": 4,
 "nbformat_minor": 4
}
