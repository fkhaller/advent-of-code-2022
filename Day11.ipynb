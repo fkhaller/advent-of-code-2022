{
 "cells": [
  {
   "cell_type": "code",
   "execution_count": 13,
   "metadata": {
    "collapsed": true
   },
   "outputs": [],
   "source": [
    "class Monkey():\n",
    "    def __init__(self, items, operator,operationAmount, testDivisable,testTrue,testFalse):\n",
    "        self.items = items\n",
    "        self.operator = operator\n",
    "        self.operationAmount = operationAmount\n",
    "        self.testDivisible = testDivisable\n",
    "        self.testTrue = testTrue\n",
    "        self.testFalse = testFalse\n",
    "        self.inspections = 0\n",
    "\n",
    "    def operation(self, old):\n",
    "        self.inspections += 1\n",
    "        if self.operator == '+':\n",
    "            return old + self.operationAmount\n",
    "        elif self.operator == '*':\n",
    "            return old * self.operationAmount\n",
    "        elif self.operator == '2':\n",
    "            return old * old\n",
    "\n",
    "    def test(self, x):\n",
    "        if not x % self.testDivisible:\n",
    "            return self.testTrue\n",
    "        else:\n",
    "            return self.testFalse"
   ]
  },
  {
   "cell_type": "code",
   "execution_count": 14,
   "outputs": [],
   "source": [
    "monkeys = []\n",
    "monkeys.append(Monkey([64, 89, 65, 95],'*',7,3,4,1))\n",
    "monkeys.append(Monkey([76, 66, 74, 87, 70, 56, 51, 66],'+',5,13,7,3))\n",
    "monkeys.append(Monkey([91, 60, 63],'2',0,2,6,5))\n",
    "monkeys.append(Monkey([92, 61, 79, 97, 79],'+',6,11,2,6))\n",
    "monkeys.append(Monkey([93, 54],'*',11,5,1,7))\n",
    "monkeys.append(Monkey([60, 79, 92, 69, 88, 82, 70],'+',8,17,4,0))\n",
    "monkeys.append(Monkey([64, 57, 73, 89, 55, 53],'+',1,19,0,5))\n",
    "monkeys.append(Monkey([62],'+',4,7,3,2))"
   ],
   "metadata": {
    "collapsed": false
   }
  },
  {
   "cell_type": "code",
   "execution_count": 12,
   "outputs": [],
   "source": [
    "for round in range(20):\n",
    "    for monkey in monkeys:\n",
    "        for item in monkey.items:\n",
    "            item = monkey.operation(item)\n",
    "            item //= 3\n",
    "            tossTo = monkey.test(item)\n",
    "            monkeys[tossTo].items.append(item)\n",
    "        monkey.items.clear()"
   ],
   "metadata": {
    "collapsed": false
   }
  },
  {
   "cell_type": "code",
   "execution_count": 67,
   "outputs": [
    {
     "name": "stdout",
     "output_type": "stream",
     "text": [
      "318\n",
      "296\n",
      "35\n",
      "307\n",
      "39\n",
      "337\n",
      "336\n",
      "40\n"
     ]
    }
   ],
   "source": [
    "for monkey in monkeys:\n",
    "    print (monkey.inspections)"
   ],
   "metadata": {
    "collapsed": false
   }
  },
  {
   "cell_type": "code",
   "execution_count": 68,
   "outputs": [
    {
     "data": {
      "text/plain": "113232"
     },
     "execution_count": 68,
     "metadata": {},
     "output_type": "execute_result"
    }
   ],
   "source": [
    "337 * 336"
   ],
   "metadata": {
    "collapsed": false
   }
  },
  {
   "cell_type": "code",
   "execution_count": 15,
   "outputs": [],
   "source": [
    "LCM = 3 * 13 * 2 * 11 * 5 * 17 * 19 * 7"
   ],
   "metadata": {
    "collapsed": false
   }
  },
  {
   "cell_type": "code",
   "execution_count": 16,
   "outputs": [],
   "source": [
    "for round in range(10000):\n",
    "    for monkey in monkeys:\n",
    "        for item in monkey.items:\n",
    "            item = monkey.operation(item)\n",
    "            item = item % LCM\n",
    "            tossTo = monkey.test(item)\n",
    "            monkeys[tossTo].items.append(item)\n",
    "        monkey.items.clear()"
   ],
   "metadata": {
    "collapsed": false
   }
  },
  {
   "cell_type": "code",
   "execution_count": 17,
   "outputs": [
    {
     "name": "stdout",
     "output_type": "stream",
     "text": [
      "171832\n",
      "12942\n",
      "167042\n",
      "12599\n",
      "167043\n",
      "172863\n",
      "12961\n",
      "160272\n"
     ]
    }
   ],
   "source": [
    "for monkey in monkeys:\n",
    "    print (monkey.inspections)"
   ],
   "metadata": {
    "collapsed": false
   }
  },
  {
   "cell_type": "code",
   "execution_count": 18,
   "outputs": [
    {
     "data": {
      "text/plain": "29703395016"
     },
     "execution_count": 18,
     "metadata": {},
     "output_type": "execute_result"
    }
   ],
   "source": [
    "172863 * 171832"
   ],
   "metadata": {
    "collapsed": false
   }
  },
  {
   "cell_type": "code",
   "execution_count": null,
   "outputs": [],
   "source": [],
   "metadata": {
    "collapsed": false
   }
  }
 ],
 "metadata": {
  "kernelspec": {
   "display_name": "Python 3",
   "language": "python",
   "name": "python3"
  },
  "language_info": {
   "codemirror_mode": {
    "name": "ipython",
    "version": 2
   },
   "file_extension": ".py",
   "mimetype": "text/x-python",
   "name": "python",
   "nbconvert_exporter": "python",
   "pygments_lexer": "ipython2",
   "version": "2.7.6"
  }
 },
 "nbformat": 4,
 "nbformat_minor": 0
}
