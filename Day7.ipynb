{
 "cells": [
  {
   "cell_type": "code",
   "execution_count": 1,
   "metadata": {
    "collapsed": true
   },
   "outputs": [],
   "source": [
    "with open('C:\\\\advent-of-code-2022\\\\input7.txt') as f:\n",
    "    input = f.read().splitlines()"
   ]
  },
  {
   "cell_type": "code",
   "execution_count": 2,
   "outputs": [
    {
     "name": "stdout",
     "output_type": "stream",
     "text": [
      "Requirement already satisfied: tinytree in c:\\advent-of-code-2022\\lib\\site-packages (0.2.1)\n",
      "Note: you may need to restart the kernel to use updated packages.\n"
     ]
    },
    {
     "name": "stderr",
     "output_type": "stream",
     "text": [
      "WARNING: You are using pip version 21.3.1; however, version 22.3.1 is available.\n",
      "You should consider upgrading via the 'C:\\advent-of-code-2022\\Scripts\\python.exe -m pip install --upgrade pip' command.\n"
     ]
    }
   ],
   "source": [
    "pip install tinytree"
   ],
   "metadata": {
    "collapsed": false
   }
  },
  {
   "cell_type": "code",
   "execution_count": 3,
   "outputs": [],
   "source": [
    "from treelib import Node, Tree"
   ],
   "metadata": {
    "collapsed": false
   }
  },
  {
   "cell_type": "code",
   "execution_count": 4,
   "outputs": [],
   "source": [
    "import math"
   ],
   "metadata": {
    "collapsed": false
   }
  },
  {
   "cell_type": "code",
   "execution_count": 5,
   "outputs": [],
   "source": [
    "def getNodeWithTag(tag):\n",
    "    tags = []\n",
    "    for node in tree.all_nodes():\n",
    "        if node.tag == tag:\n",
    "            tags.append(node.identifier)\n",
    "    return tags.pop()"
   ],
   "metadata": {
    "collapsed": false
   }
  },
  {
   "cell_type": "code",
   "execution_count": 6,
   "outputs": [
    {
     "name": "stdout",
     "output_type": "stream",
     "text": [
      "/\n",
      "\n"
     ]
    }
   ],
   "source": [
    "tree = Tree()\n",
    "currentSize = 0\n",
    "nodeNumber = 1\n",
    "tree.create_node('/', 0)\n",
    "currentNode = 0\n",
    "tree.show()"
   ],
   "metadata": {
    "collapsed": false
   }
  },
  {
   "cell_type": "code",
   "execution_count": 7,
   "outputs": [
    {
     "data": {
      "text/plain": "199"
     },
     "execution_count": 7,
     "metadata": {},
     "output_type": "execute_result"
    }
   ],
   "source": [
    "for line in input:\n",
    "    if not line.__contains__('/') and not line.__contains__('..'):\n",
    "        if line.startswith('$ cd'):\n",
    "            tree.get_node(currentNode).data = currentSize\n",
    "            currentSize = 0\n",
    "            currentNode = getNodeWithTag(line.split(' cd ')[1])\n",
    "            tree.get_node(currentNode).tag = 'Used'\n",
    "        elif line.startswith('dir'):\n",
    "            folder = line.split(' ')[1]\n",
    "            tree.create_node(folder, nodeNumber, parent=currentNode)\n",
    "            nodeNumber += 1\n",
    "        elif not line.startswith('$ ls'):\n",
    "            currentSize += int(line.split(' ')[0])\n",
    "tree.get_node(currentNode).data = currentSize\n",
    "tree.size()"
   ],
   "metadata": {
    "collapsed": false
   }
  },
  {
   "cell_type": "code",
   "execution_count": 32,
   "outputs": [],
   "source": [
    "def findSize(node):\n",
    "    if tree.children(node.identifier) == []:\n",
    "        return node.data\n",
    "    size = node.data\n",
    "    for child in tree.children(node.identifier):\n",
    "        size += findSize(child)\n",
    "    return size"
   ],
   "metadata": {
    "collapsed": false
   }
  },
  {
   "cell_type": "code",
   "execution_count": 33,
   "outputs": [
    {
     "data": {
      "text/plain": "1232307"
     },
     "execution_count": 33,
     "metadata": {},
     "output_type": "execute_result"
    }
   ],
   "source": [
    "total = 0\n",
    "for node in tree.all_nodes():\n",
    "    size = findSize(node)\n",
    "    if (size < 100000):\n",
    "        total += size\n",
    "total"
   ],
   "metadata": {
    "collapsed": false
   }
  },
  {
   "cell_type": "code",
   "execution_count": 34,
   "outputs": [],
   "source": [
    "totalSize = findSize(tree.get_node(0))\n",
    "unusedSpace = 70000000 - totalSize\n",
    "spaceToFree = 30000000 - unusedSpace"
   ],
   "metadata": {
    "collapsed": false
   }
  },
  {
   "cell_type": "code",
   "execution_count": 35,
   "outputs": [
    {
     "data": {
      "text/plain": "7268994"
     },
     "execution_count": 35,
     "metadata": {},
     "output_type": "execute_result"
    }
   ],
   "source": [
    "smallestBigEnough = 10000000000000000000000\n",
    "currentSize = 0\n",
    "for node in tree.all_nodes():\n",
    "    currentSize = findSize(node)\n",
    "    if (currentSize > spaceToFree and currentSize < smallestBigEnough):\n",
    "        smallestBigEnough = currentSize\n",
    "smallestBigEnough"
   ],
   "metadata": {
    "collapsed": false
   }
  },
  {
   "cell_type": "code",
   "execution_count": null,
   "outputs": [],
   "source": [],
   "metadata": {
    "collapsed": false
   }
  }
 ],
 "metadata": {
  "kernelspec": {
   "display_name": "Python 3",
   "language": "python",
   "name": "python3"
  },
  "language_info": {
   "codemirror_mode": {
    "name": "ipython",
    "version": 2
   },
   "file_extension": ".py",
   "mimetype": "text/x-python",
   "name": "python",
   "nbconvert_exporter": "python",
   "pygments_lexer": "ipython2",
   "version": "2.7.6"
  }
 },
 "nbformat": 4,
 "nbformat_minor": 0
}
