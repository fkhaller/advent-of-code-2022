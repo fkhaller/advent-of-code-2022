{
 "cells": [
  {
   "cell_type": "code",
   "execution_count": 1,
   "metadata": {
    "collapsed": true
   },
   "outputs": [],
   "source": [
    "with open('C:\\\\advent-of-code-2022\\\\input5.txt') as f:\n",
    "    input = f.read().splitlines()"
   ]
  },
  {
   "cell_type": "code",
   "execution_count": 2,
   "outputs": [
    {
     "data": {
      "text/plain": "['[P]     [L]         [T]',\n '[L]     [M] [G]     [G]     [S]',\n '[M]     [Q] [W]     [H] [R] [G]',\n '[N]     [F] [M]     [D] [V] [R] [N]',\n '[W]     [G] [Q] [P] [J] [F] [M] [C]',\n '[V] [H] [B] [F] [H] [M] [B] [H] [B]',\n '[B] [Q] [D] [T] [T] [B] [N] [L] [D]',\n '[H] [M] [N] [Z] [M] [C] [M] [P] [P]']"
     },
     "execution_count": 2,
     "metadata": {},
     "output_type": "execute_result"
    }
   ],
   "source": [
    "stacks = input[0:8]\n",
    "stacks"
   ],
   "metadata": {
    "collapsed": false
   }
  },
  {
   "cell_type": "code",
   "execution_count": 3,
   "outputs": [
    {
     "data": {
      "text/plain": "['P L  T',\n 'L MG G S',\n 'M QW HRG',\n 'N FM DVRN',\n 'W GQPJFMC',\n 'VHBFHMBHB',\n 'BQDTTBNLD',\n 'HMNZMCMPP']"
     },
     "execution_count": 3,
     "metadata": {},
     "output_type": "execute_result"
    }
   ],
   "source": [
    "i = 0\n",
    "for stack in stacks:\n",
    "    compressedStack = stack.replace('] [', '').replace(']     [',' ').replace(']         [','  ').replace('[','').replace(']','')\n",
    "    stacks[i] = compressedStack\n",
    "    i += 1\n",
    "stacks"
   ],
   "metadata": {
    "collapsed": false
   }
  },
  {
   "cell_type": "code",
   "execution_count": 4,
   "outputs": [
    {
     "data": {
      "text/plain": "[['P', 'L', 'M', 'N', 'W', 'V', 'B', 'H'],\n ['H', 'Q', 'M'],\n ['L', 'M', 'Q', 'F', 'G', 'B', 'D', 'N'],\n ['G', 'W', 'M', 'Q', 'F', 'T', 'Z'],\n ['P', 'H', 'T', 'M'],\n ['T', 'G', 'H', 'D', 'J', 'M', 'B', 'C'],\n ['R', 'V', 'F', 'B', 'N', 'M'],\n ['S', 'G', 'R', 'M', 'H', 'L', 'P'],\n ['N', 'C', 'B', 'D', 'P']]"
     },
     "execution_count": 4,
     "metadata": {},
     "output_type": "execute_result"
    }
   ],
   "source": [
    "flippedStack = [[],[],[],[],[],[],[],[],[]]\n",
    "for stack in stacks:\n",
    "    for j in range(9):\n",
    "        if len(stack) > j and stack[j] != ' ':\n",
    "            flippedStack[j].append(stack[j])\n",
    "flippedStack"
   ],
   "metadata": {
    "collapsed": false
   }
  },
  {
   "cell_type": "code",
   "execution_count": 5,
   "outputs": [
    {
     "data": {
      "text/plain": "[['H', 'B', 'V', 'W', 'N', 'M', 'L', 'P'],\n ['M', 'Q', 'H'],\n ['N', 'D', 'B', 'G', 'F', 'Q', 'M', 'L'],\n ['Z', 'T', 'F', 'Q', 'M', 'W', 'G'],\n ['M', 'T', 'H', 'P'],\n ['C', 'B', 'M', 'J', 'D', 'H', 'G', 'T'],\n ['M', 'N', 'B', 'F', 'V', 'R'],\n ['P', 'L', 'H', 'M', 'R', 'G', 'S'],\n ['P', 'D', 'B', 'C', 'N']]"
     },
     "execution_count": 5,
     "metadata": {},
     "output_type": "execute_result"
    }
   ],
   "source": [
    "for i in range(9):\n",
    "    flippedStack[i].reverse()\n",
    "flippedStack"
   ],
   "metadata": {
    "collapsed": false
   }
  },
  {
   "cell_type": "code",
   "execution_count": 6,
   "outputs": [
    {
     "data": {
      "text/plain": "['move 8 from 3 to 2',\n 'move 1 from 9 to 5',\n 'move 5 from 4 to 7',\n 'move 6 from 1 to 4',\n 'move 8 from 6 to 8',\n 'move 8 from 4 to 5',\n 'move 4 from 9 to 5',\n 'move 4 from 7 to 9',\n 'move 7 from 7 to 2',\n 'move 4 from 5 to 2',\n 'move 11 from 8 to 3',\n 'move 3 from 9 to 7',\n 'move 11 from 2 to 8',\n 'move 13 from 8 to 4',\n 'move 11 from 5 to 6',\n 'move 8 from 2 to 4',\n 'move 1 from 5 to 4',\n 'move 1 from 3 to 2',\n 'move 2 from 2 to 1',\n 'move 2 from 8 to 5',\n 'move 3 from 7 to 5',\n 'move 1 from 4 to 7',\n 'move 9 from 6 to 7',\n 'move 1 from 6 to 5',\n 'move 1 from 1 to 4',\n 'move 3 from 1 to 9',\n 'move 15 from 4 to 3',\n 'move 2 from 4 to 1',\n 'move 1 from 1 to 9',\n 'move 3 from 4 to 5',\n 'move 1 from 4 to 1',\n 'move 1 from 7 to 2',\n 'move 1 from 6 to 3',\n 'move 5 from 7 to 1',\n 'move 19 from 3 to 9',\n 'move 7 from 1 to 2',\n 'move 24 from 9 to 7',\n 'move 23 from 7 to 1',\n 'move 1 from 4 to 6',\n 'move 3 from 7 to 3',\n 'move 1 from 6 to 1',\n 'move 6 from 2 to 1',\n 'move 21 from 1 to 9',\n 'move 5 from 3 to 8',\n 'move 2 from 2 to 5',\n 'move 10 from 9 to 5',\n 'move 1 from 2 to 1',\n 'move 5 from 1 to 3',\n 'move 6 from 3 to 4',\n 'move 1 from 2 to 8',\n 'move 3 from 5 to 2',\n 'move 4 from 9 to 3',\n 'move 13 from 5 to 9',\n 'move 2 from 7 to 2',\n 'move 3 from 4 to 7',\n 'move 1 from 7 to 8',\n 'move 5 from 1 to 3',\n 'move 1 from 7 to 5',\n 'move 1 from 8 to 1',\n 'move 2 from 2 to 7',\n 'move 19 from 9 to 2',\n 'move 5 from 2 to 3',\n 'move 7 from 5 to 9',\n 'move 1 from 1 to 9',\n 'move 5 from 9 to 2',\n 'move 4 from 9 to 3',\n 'move 20 from 3 to 9',\n 'move 1 from 3 to 9',\n 'move 3 from 7 to 3',\n 'move 16 from 2 to 3',\n 'move 12 from 3 to 4',\n 'move 2 from 2 to 5',\n 'move 1 from 2 to 4',\n 'move 2 from 4 to 1',\n 'move 4 from 8 to 1',\n 'move 15 from 9 to 3',\n 'move 2 from 5 to 3',\n 'move 3 from 2 to 8',\n 'move 5 from 8 to 5',\n 'move 7 from 3 to 4',\n 'move 2 from 9 to 6',\n 'move 15 from 3 to 1',\n 'move 3 from 1 to 8',\n 'move 3 from 9 to 5',\n 'move 9 from 4 to 1',\n 'move 3 from 3 to 5',\n 'move 2 from 6 to 5',\n 'move 9 from 1 to 3',\n 'move 1 from 9 to 4',\n 'move 1 from 5 to 2',\n 'move 3 from 8 to 5',\n 'move 10 from 1 to 6',\n 'move 12 from 4 to 8',\n 'move 1 from 2 to 7',\n 'move 2 from 5 to 6',\n 'move 1 from 1 to 4',\n 'move 7 from 3 to 6',\n 'move 1 from 7 to 2',\n 'move 2 from 4 to 9',\n 'move 3 from 1 to 7',\n 'move 1 from 9 to 8',\n 'move 1 from 2 to 3',\n 'move 3 from 1 to 7',\n 'move 5 from 8 to 2',\n 'move 5 from 7 to 1',\n 'move 9 from 6 to 8',\n 'move 6 from 6 to 9',\n 'move 8 from 8 to 6',\n 'move 1 from 7 to 4',\n 'move 5 from 2 to 4',\n 'move 7 from 5 to 1',\n 'move 5 from 8 to 9',\n 'move 11 from 6 to 7',\n 'move 9 from 9 to 1',\n 'move 2 from 7 to 5',\n 'move 1 from 9 to 5',\n 'move 1 from 3 to 6',\n 'move 3 from 4 to 6',\n 'move 1 from 8 to 2',\n 'move 2 from 3 to 6',\n 'move 6 from 5 to 2',\n 'move 3 from 5 to 9',\n 'move 3 from 2 to 1',\n 'move 1 from 4 to 3',\n 'move 3 from 2 to 7',\n 'move 1 from 8 to 9',\n 'move 1 from 2 to 8',\n 'move 8 from 7 to 5',\n 'move 1 from 7 to 8',\n 'move 3 from 5 to 6',\n 'move 5 from 5 to 2',\n 'move 1 from 4 to 1',\n 'move 1 from 3 to 2',\n 'move 4 from 1 to 5',\n 'move 4 from 2 to 6',\n 'move 6 from 1 to 2',\n 'move 5 from 9 to 3',\n 'move 2 from 5 to 3',\n 'move 3 from 3 to 6',\n 'move 10 from 6 to 4',\n 'move 4 from 8 to 5',\n 'move 5 from 5 to 1',\n 'move 21 from 1 to 7',\n 'move 3 from 2 to 9',\n 'move 1 from 5 to 2',\n 'move 4 from 2 to 9',\n 'move 8 from 4 to 8',\n 'move 1 from 2 to 1',\n 'move 7 from 8 to 2',\n 'move 2 from 6 to 1',\n 'move 2 from 1 to 5',\n 'move 1 from 1 to 5',\n 'move 4 from 3 to 7',\n 'move 1 from 9 to 3',\n 'move 4 from 6 to 3',\n 'move 1 from 3 to 8',\n 'move 1 from 3 to 4',\n 'move 2 from 2 to 6',\n 'move 2 from 9 to 7',\n 'move 14 from 7 to 8',\n 'move 10 from 8 to 7',\n 'move 3 from 4 to 6',\n 'move 5 from 2 to 3',\n 'move 3 from 9 to 8',\n 'move 3 from 3 to 4',\n 'move 1 from 2 to 4',\n 'move 1 from 9 to 4',\n 'move 1 from 9 to 5',\n 'move 1 from 5 to 2',\n 'move 3 from 5 to 7',\n 'move 1 from 4 to 6',\n 'move 5 from 3 to 8',\n 'move 1 from 6 to 8',\n 'move 5 from 7 to 6',\n 'move 14 from 8 to 5',\n 'move 2 from 6 to 7',\n 'move 18 from 7 to 2',\n 'move 3 from 6 to 1',\n 'move 5 from 5 to 4',\n 'move 5 from 6 to 2',\n 'move 7 from 2 to 1',\n 'move 1 from 8 to 4',\n 'move 1 from 5 to 1',\n 'move 8 from 1 to 9',\n 'move 10 from 4 to 3',\n 'move 8 from 5 to 3',\n 'move 1 from 4 to 3',\n 'move 2 from 1 to 5',\n 'move 1 from 5 to 3',\n 'move 5 from 3 to 1',\n 'move 1 from 1 to 3',\n 'move 5 from 1 to 6',\n 'move 13 from 3 to 1',\n 'move 3 from 9 to 4',\n 'move 2 from 9 to 6',\n 'move 5 from 6 to 5',\n 'move 6 from 5 to 1',\n 'move 7 from 7 to 9',\n 'move 7 from 9 to 6',\n 'move 1 from 9 to 3',\n 'move 1 from 7 to 9',\n 'move 3 from 9 to 1',\n 'move 12 from 2 to 7',\n 'move 7 from 6 to 2',\n 'move 22 from 1 to 7',\n 'move 1 from 6 to 5',\n 'move 4 from 7 to 6',\n 'move 1 from 5 to 6',\n 'move 2 from 4 to 1',\n 'move 1 from 4 to 1',\n 'move 23 from 7 to 9',\n 'move 4 from 6 to 2',\n 'move 4 from 7 to 3',\n 'move 1 from 1 to 9',\n 'move 6 from 2 to 1',\n 'move 1 from 7 to 2',\n 'move 7 from 2 to 8',\n 'move 2 from 3 to 8',\n 'move 3 from 1 to 9',\n 'move 1 from 2 to 8',\n 'move 5 from 8 to 3',\n 'move 3 from 2 to 1',\n 'move 2 from 7 to 8',\n 'move 10 from 9 to 8',\n 'move 4 from 1 to 3',\n 'move 14 from 3 to 4',\n 'move 7 from 4 to 5',\n 'move 1 from 6 to 9',\n 'move 5 from 5 to 8',\n 'move 1 from 6 to 4',\n 'move 6 from 9 to 4',\n 'move 3 from 8 to 4',\n 'move 1 from 5 to 1',\n 'move 3 from 4 to 3',\n 'move 9 from 4 to 3',\n 'move 5 from 3 to 6',\n 'move 5 from 1 to 5',\n 'move 4 from 6 to 2',\n 'move 8 from 9 to 2',\n 'move 2 from 6 to 5',\n 'move 3 from 4 to 7',\n 'move 2 from 2 to 7',\n 'move 2 from 5 to 4',\n 'move 3 from 5 to 9',\n 'move 3 from 4 to 2',\n 'move 10 from 2 to 5',\n 'move 1 from 9 to 8',\n 'move 2 from 2 to 9',\n 'move 3 from 7 to 2',\n 'move 1 from 2 to 9',\n 'move 13 from 5 to 1',\n 'move 2 from 2 to 7',\n 'move 8 from 9 to 2',\n 'move 1 from 4 to 6',\n 'move 1 from 9 to 5',\n 'move 14 from 8 to 4',\n 'move 7 from 4 to 5',\n 'move 4 from 7 to 5',\n 'move 2 from 3 to 8',\n 'move 4 from 1 to 5',\n 'move 2 from 5 to 4',\n 'move 6 from 5 to 6',\n 'move 7 from 2 to 5',\n 'move 1 from 2 to 6',\n 'move 1 from 5 to 2',\n 'move 2 from 2 to 8',\n 'move 2 from 1 to 3',\n 'move 8 from 4 to 7',\n 'move 1 from 4 to 3',\n 'move 6 from 1 to 6',\n 'move 7 from 3 to 9',\n 'move 3 from 7 to 1',\n 'move 2 from 8 to 7',\n 'move 7 from 6 to 9',\n 'move 2 from 3 to 6',\n 'move 6 from 8 to 3',\n 'move 9 from 5 to 3',\n 'move 2 from 7 to 8',\n 'move 2 from 6 to 4',\n 'move 7 from 6 to 9',\n 'move 5 from 3 to 8',\n 'move 10 from 9 to 1',\n 'move 11 from 1 to 8',\n 'move 1 from 3 to 2',\n 'move 4 from 5 to 6',\n 'move 2 from 6 to 2',\n 'move 2 from 7 to 9',\n 'move 3 from 1 to 7',\n 'move 6 from 3 to 9',\n 'move 2 from 7 to 2',\n 'move 2 from 6 to 9',\n 'move 1 from 5 to 9',\n 'move 11 from 9 to 8',\n 'move 1 from 4 to 5',\n 'move 6 from 9 to 8',\n 'move 31 from 8 to 9',\n 'move 1 from 3 to 6',\n 'move 1 from 7 to 1',\n 'move 1 from 4 to 3',\n 'move 1 from 5 to 2',\n 'move 1 from 1 to 8',\n 'move 1 from 8 to 9',\n 'move 1 from 7 to 3',\n 'move 11 from 9 to 6',\n 'move 2 from 3 to 1',\n 'move 2 from 3 to 5',\n 'move 1 from 5 to 4',\n 'move 1 from 4 to 1',\n 'move 6 from 8 to 3',\n 'move 1 from 1 to 4',\n 'move 1 from 4 to 6',\n 'move 2 from 3 to 6',\n 'move 17 from 9 to 2',\n 'move 23 from 2 to 9',\n 'move 14 from 9 to 4',\n 'move 1 from 1 to 7',\n 'move 1 from 5 to 6',\n 'move 8 from 6 to 2',\n 'move 1 from 3 to 2',\n 'move 4 from 9 to 8',\n 'move 5 from 4 to 7',\n 'move 3 from 7 to 2',\n 'move 1 from 1 to 2',\n 'move 2 from 9 to 4',\n 'move 3 from 6 to 9',\n 'move 8 from 4 to 9',\n 'move 2 from 4 to 2',\n 'move 4 from 7 to 2',\n 'move 1 from 7 to 9',\n 'move 4 from 6 to 2',\n 'move 16 from 2 to 1',\n 'move 2 from 3 to 2',\n 'move 18 from 9 to 8',\n 'move 1 from 4 to 2',\n 'move 1 from 6 to 8',\n 'move 1 from 3 to 9',\n 'move 3 from 9 to 5',\n 'move 4 from 9 to 8',\n 'move 6 from 2 to 8',\n 'move 1 from 5 to 1',\n 'move 4 from 2 to 8',\n 'move 1 from 5 to 1',\n 'move 17 from 1 to 4',\n 'move 1 from 5 to 8',\n 'move 10 from 4 to 3',\n 'move 10 from 3 to 1',\n 'move 4 from 4 to 9',\n 'move 1 from 4 to 6',\n 'move 1 from 4 to 8',\n 'move 38 from 8 to 1',\n 'move 27 from 1 to 5',\n 'move 1 from 8 to 2',\n 'move 1 from 6 to 3',\n 'move 1 from 4 to 8',\n 'move 1 from 8 to 4',\n 'move 14 from 1 to 9',\n 'move 1 from 3 to 1',\n 'move 1 from 5 to 1',\n 'move 1 from 2 to 5',\n 'move 2 from 5 to 4',\n 'move 17 from 5 to 8',\n 'move 3 from 4 to 9',\n 'move 2 from 9 to 1',\n 'move 3 from 5 to 7',\n 'move 3 from 7 to 4',\n 'move 2 from 4 to 7',\n 'move 12 from 1 to 4',\n 'move 1 from 7 to 4',\n 'move 1 from 7 to 6',\n 'move 1 from 6 to 9',\n 'move 11 from 4 to 3',\n 'move 1 from 5 to 3',\n 'move 11 from 3 to 9',\n 'move 1 from 3 to 2',\n 'move 3 from 5 to 4',\n 'move 1 from 2 to 4',\n 'move 1 from 5 to 8',\n 'move 13 from 9 to 3',\n 'move 16 from 9 to 1',\n 'move 4 from 8 to 9',\n 'move 2 from 1 to 4',\n 'move 1 from 9 to 1',\n 'move 1 from 9 to 7',\n 'move 1 from 7 to 2',\n 'move 6 from 8 to 3',\n 'move 8 from 4 to 2',\n 'move 4 from 9 to 6',\n 'move 3 from 2 to 3',\n 'move 3 from 6 to 1',\n 'move 3 from 8 to 6',\n 'move 1 from 6 to 8',\n 'move 3 from 6 to 4',\n 'move 11 from 3 to 5',\n 'move 4 from 8 to 2',\n 'move 6 from 3 to 5',\n 'move 3 from 5 to 1',\n 'move 2 from 8 to 3',\n 'move 14 from 5 to 3',\n 'move 4 from 3 to 4',\n 'move 6 from 3 to 5',\n 'move 3 from 2 to 9',\n 'move 4 from 1 to 8',\n 'move 3 from 9 to 6',\n 'move 2 from 6 to 9',\n 'move 6 from 4 to 3',\n 'move 15 from 1 to 4',\n 'move 1 from 6 to 7',\n 'move 5 from 5 to 1',\n 'move 11 from 3 to 1',\n 'move 2 from 9 to 7',\n 'move 1 from 5 to 6',\n 'move 2 from 1 to 3',\n 'move 7 from 2 to 6',\n 'move 4 from 8 to 1',\n 'move 8 from 4 to 2',\n 'move 3 from 6 to 4',\n 'move 5 from 1 to 4',\n 'move 17 from 4 to 8',\n 'move 3 from 3 to 7',\n 'move 4 from 3 to 4',\n 'move 4 from 4 to 2',\n 'move 9 from 8 to 7',\n 'move 1 from 3 to 8',\n 'move 10 from 2 to 4',\n 'move 1 from 6 to 2',\n 'move 2 from 8 to 4',\n 'move 2 from 6 to 9',\n 'move 2 from 6 to 2',\n 'move 1 from 2 to 3',\n 'move 3 from 1 to 4',\n 'move 1 from 3 to 2',\n 'move 1 from 9 to 3',\n 'move 1 from 9 to 7',\n 'move 4 from 8 to 4',\n 'move 10 from 4 to 8',\n 'move 5 from 4 to 3',\n 'move 1 from 2 to 8',\n 'move 5 from 3 to 7',\n 'move 3 from 7 to 8',\n 'move 3 from 4 to 3',\n 'move 8 from 7 to 2',\n 'move 8 from 7 to 8',\n 'move 1 from 3 to 2',\n 'move 3 from 2 to 8',\n 'move 9 from 2 to 5',\n 'move 12 from 1 to 7',\n 'move 21 from 8 to 3',\n 'move 5 from 8 to 6',\n 'move 8 from 7 to 5',\n 'move 6 from 7 to 4',\n 'move 12 from 5 to 7',\n 'move 1 from 8 to 5',\n 'move 2 from 4 to 2',\n 'move 1 from 7 to 6',\n 'move 14 from 3 to 8',\n 'move 5 from 6 to 2',\n 'move 7 from 2 to 6',\n 'move 6 from 8 to 4',\n 'move 11 from 7 to 4',\n 'move 8 from 3 to 7',\n 'move 4 from 5 to 7',\n 'move 9 from 8 to 2',\n 'move 6 from 4 to 1',\n 'move 2 from 5 to 2',\n 'move 1 from 7 to 2',\n 'move 11 from 2 to 3',\n 'move 1 from 2 to 1',\n 'move 7 from 4 to 1',\n 'move 5 from 6 to 8',\n 'move 1 from 2 to 3',\n 'move 2 from 8 to 7',\n 'move 14 from 3 to 7',\n 'move 15 from 7 to 6',\n 'move 4 from 4 to 6',\n 'move 2 from 8 to 3',\n 'move 12 from 1 to 3',\n 'move 1 from 8 to 2',\n 'move 1 from 2 to 3',\n 'move 1 from 3 to 9',\n 'move 1 from 9 to 7',\n 'move 1 from 1 to 4',\n 'move 18 from 6 to 8',\n 'move 3 from 3 to 2',\n 'move 17 from 8 to 3',\n 'move 3 from 7 to 6',\n 'move 3 from 2 to 6',\n 'move 25 from 3 to 7',\n 'move 2 from 4 to 1',\n 'move 9 from 6 to 5',\n 'move 2 from 3 to 1',\n 'move 1 from 3 to 9',\n 'move 5 from 5 to 2',\n 'move 1 from 8 to 3',\n 'move 2 from 4 to 7',\n 'move 1 from 9 to 4',\n 'move 1 from 6 to 7',\n 'move 2 from 5 to 2',\n 'move 2 from 4 to 8',\n 'move 2 from 5 to 8',\n 'move 5 from 7 to 9',\n 'move 27 from 7 to 5',\n 'move 2 from 9 to 6']"
     },
     "execution_count": 6,
     "metadata": {},
     "output_type": "execute_result"
    }
   ],
   "source": [
    "moves = input [10:]\n",
    "moves"
   ],
   "metadata": {
    "collapsed": false
   }
  },
  {
   "cell_type": "code",
   "execution_count": 7,
   "outputs": [],
   "source": [
    "i = 0\n",
    "quantity = []\n",
    "fromStack = []\n",
    "toStack = []\n",
    "for move in moves:\n",
    "    compressedMove = move.replace('move ','').replace(' from ', ' ').replace(' to ', ' ')\n",
    "    q, f, t = compressedMove.split(' ')\n",
    "    quantity.append(int(q))\n",
    "    fromStack.append(int(f)-1)\n",
    "    toStack.append(int(t)-1)\n",
    "    i += 1"
   ],
   "metadata": {
    "collapsed": false
   }
  },
  {
   "cell_type": "code",
   "execution_count": 8,
   "outputs": [],
   "source": [
    "for i in range(len(quantity)):\n",
    "    tempPop = []\n",
    "    for j in range(quantity[i]):\n",
    "        if (len(flippedStack[fromStack[i]]) != 0):\n",
    "            tempPop.append(flippedStack[fromStack[i]].pop())\n",
    "    for j in range(quantity[i]):\n",
    "            flippedStack[toStack[i]].append(tempPop.pop())"
   ],
   "metadata": {
    "collapsed": false
   }
  },
  {
   "cell_type": "code",
   "execution_count": 9,
   "outputs": [
    {
     "data": {
      "text/plain": "[['V', 'M', 'P', 'C', 'G'],\n ['N', 'N', 'B', 'H', 'S', 'D', 'M'],\n ['P'],\n ['M'],\n ['P',\n  'G',\n  'P',\n  'L',\n  'T',\n  'M',\n  'J',\n  'H',\n  'B',\n  'B',\n  'N',\n  'W',\n  'B',\n  'Q',\n  'R',\n  'B',\n  'Q',\n  'D',\n  'M',\n  'F',\n  'H',\n  'V',\n  'H',\n  'F',\n  'C',\n  'F',\n  'L'],\n ['H', 'W'],\n ['L', 'Q', 'T', 'R', 'Z', 'N'],\n ['T', 'M', 'D', 'M'],\n ['M', 'G', 'G']]"
     },
     "execution_count": 9,
     "metadata": {},
     "output_type": "execute_result"
    }
   ],
   "source": [
    "flippedStack"
   ],
   "metadata": {
    "collapsed": false
   }
  },
  {
   "cell_type": "code",
   "execution_count": 10,
   "outputs": [],
   "source": [
    "for i in range(len(quantity)):\n",
    "    for j in range(quantity[i]):\n",
    "        if (len(flippedStack[fromStack[i]]) != 0):\n",
    "            flippedStack[toStack[i]].append(flippedStack[fromStack[i]].pop())"
   ],
   "metadata": {
    "collapsed": false
   }
  },
  {
   "cell_type": "code",
   "execution_count": 10,
   "outputs": [],
   "source": [],
   "metadata": {
    "collapsed": false
   }
  }
 ],
 "metadata": {
  "kernelspec": {
   "display_name": "Python 3",
   "language": "python",
   "name": "python3"
  },
  "language_info": {
   "codemirror_mode": {
    "name": "ipython",
    "version": 2
   },
   "file_extension": ".py",
   "mimetype": "text/x-python",
   "name": "python",
   "nbconvert_exporter": "python",
   "pygments_lexer": "ipython2",
   "version": "2.7.6"
  }
 },
 "nbformat": 4,
 "nbformat_minor": 0
}
