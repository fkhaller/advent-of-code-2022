{
 "cells": [
  {
   "cell_type": "code",
   "execution_count": 1,
   "metadata": {
    "collapsed": true
   },
   "outputs": [],
   "source": [
    "with open('C:\\\\advent-of-code-2022\\\\input9.txt') as f:\n",
    "    input = f.read().splitlines()"
   ]
  },
  {
   "cell_type": "code",
   "execution_count": 194,
   "outputs": [],
   "source": [
    "def moveKnot(knots, axis, direction):\n",
    "    knots[0][axis[0]] += direction\n",
    "    for i in range(len(knots) - 1):\n",
    "        if knots[i][0] - 2 * direction == knots[i+1][0]:\n",
    "            knots[i+1][0] += direction\n",
    "            if knots[i][1] > knots[i+1][1]:\n",
    "                knots[i+1][1] += 1\n",
    "            if knots[i][1] < knots[i+1][1]:\n",
    "                knots[i+1][1] -= 1\n",
    "        if knots[i][0] + 2 * direction == knots[i+1][0]:\n",
    "            knots[i+1][0] -= direction\n",
    "            if knots[i][1] > knots[i+1][1]:\n",
    "                knots[i+1][1] += 1\n",
    "            if knots[i][1] < knots[i+1][1]:\n",
    "                knots[i+1][1] -= 1\n",
    "        if knots[i][1] + 2 * direction == knots[i+1][1]:\n",
    "            knots[i+1][1] -= direction\n",
    "            if knots[i][0] > knots[i+1][0]:\n",
    "                knots[i+1][0] += 1\n",
    "            if knots[i][0] < knots[i+1][0]:\n",
    "                knots[i+1][0] -= 1\n",
    "        if knots[i][1] - 2 * direction == knots[i+1][1]:\n",
    "            knots[i+1][1] += direction\n",
    "            if knots[i][0] > knots[i+1][0]:\n",
    "                knots[i+1][0] += 1\n",
    "            if knots[i][0] < knots[i+1][0]:\n",
    "                knots[i+1][0] -= 1"
   ],
   "metadata": {
    "collapsed": false
   }
  },
  {
   "cell_type": "code",
   "execution_count": 195,
   "outputs": [],
   "source": [
    "headPos = [0,0]\n",
    "tailPos = [0,0]\n",
    "visitedPositions = ['0 0']\n",
    "for move in input:\n",
    "    distance = int(move.split(' ')[1])\n",
    "    if move.startswith('L'):\n",
    "        for i in range(distance):\n",
    "            moveKnot([headPos,tailPos],[0,1],-1)\n",
    "            visitedPositions.append(str(tailPos[0]) + ' ' + str(tailPos[1]))\n",
    "    if move.startswith('R'):\n",
    "        for i in range(distance):\n",
    "            moveKnot([headPos,tailPos],[0,1],1)\n",
    "            visitedPositions.append(str(tailPos[0]) + ' ' + str(tailPos[1]))\n",
    "    if move.startswith('U'):\n",
    "        for i in range(distance):\n",
    "            moveKnot([headPos,tailPos],[1,0],1)\n",
    "            visitedPositions.append(str(tailPos[0]) + ' ' + str(tailPos[1]))\n",
    "    if move.startswith('D'):\n",
    "        for i in range(distance):\n",
    "            moveKnot([headPos,tailPos],[1,0],-1)\n",
    "            visitedPositions.append(str(tailPos[0]) + ' ' + str(tailPos[1]))"
   ],
   "metadata": {
    "collapsed": false
   }
  },
  {
   "cell_type": "code",
   "execution_count": 196,
   "outputs": [
    {
     "data": {
      "text/plain": "6357"
     },
     "execution_count": 196,
     "metadata": {},
     "output_type": "execute_result"
    }
   ],
   "source": [
    "len(set(visitedPositions))"
   ],
   "metadata": {
    "collapsed": false
   }
  },
  {
   "cell_type": "code",
   "execution_count": 197,
   "outputs": [],
   "source": [
    "headPos = [0,0]\n",
    "knot1 = [0,0]\n",
    "knot2 = [0,0]\n",
    "knot3 = [0,0]\n",
    "knot4 = [0,0]\n",
    "knot5 = [0,0]\n",
    "knot6 = [0,0]\n",
    "knot7 = [0,0]\n",
    "knot8 = [0,0]\n",
    "tailPos = [0,0]\n",
    "visitedPositions = ['0 0']\n",
    "for move in input:\n",
    "    distance = int(move.split(' ')[1])\n",
    "    if move.startswith('L'):\n",
    "        for i in range(distance):\n",
    "            moveKnot([headPos,knot1,knot2,knot3,knot4,knot5,knot6,knot7,knot8,tailPos],[0,1],-1)\n",
    "            visitedPositions.append(str(tailPos[0]) + ' ' + str(tailPos[1]))\n",
    "    if move.startswith('R'):\n",
    "        for i in range(distance):\n",
    "            moveKnot([headPos,knot1,knot2,knot3,knot4,knot5,knot6,knot7,knot8,tailPos],[0,1],1)\n",
    "            visitedPositions.append(str(tailPos[0]) + ' ' + str(tailPos[1]))\n",
    "    if move.startswith('U'):\n",
    "        for i in range(distance):\n",
    "            moveKnot([headPos,knot1,knot2,knot3,knot4,knot5,knot6,knot7,knot8,tailPos],[1,0],1)\n",
    "            visitedPositions.append(str(tailPos[0]) + ' ' + str(tailPos[1]))\n",
    "    if move.startswith('D'):\n",
    "        for i in range(distance):\n",
    "            moveKnot([headPos,knot1,knot2,knot3,knot4,knot5,knot6,knot7,knot8,tailPos],[1,0],-1)\n",
    "            visitedPositions.append(str(tailPos[0]) + ' ' + str(tailPos[1]))"
   ],
   "metadata": {
    "collapsed": false
   }
  },
  {
   "cell_type": "code",
   "execution_count": 198,
   "outputs": [
    {
     "data": {
      "text/plain": "2627"
     },
     "execution_count": 198,
     "metadata": {},
     "output_type": "execute_result"
    }
   ],
   "source": [
    "len(set(visitedPositions))"
   ],
   "metadata": {
    "collapsed": false
   }
  }
 ],
 "metadata": {
  "kernelspec": {
   "display_name": "Python 3",
   "language": "python",
   "name": "python3"
  },
  "language_info": {
   "codemirror_mode": {
    "name": "ipython",
    "version": 2
   },
   "file_extension": ".py",
   "mimetype": "text/x-python",
   "name": "python",
   "nbconvert_exporter": "python",
   "pygments_lexer": "ipython2",
   "version": "2.7.6"
  }
 },
 "nbformat": 4,
 "nbformat_minor": 0
}
