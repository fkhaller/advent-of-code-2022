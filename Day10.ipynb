{
 "cells": [
  {
   "cell_type": "code",
   "execution_count": 29,
   "metadata": {
    "collapsed": true
   },
   "outputs": [],
   "source": [
    "with open('C:\\\\advent-of-code-2022\\\\input10.txt') as f:\n",
    "    input = f.read().splitlines()"
   ]
  },
  {
   "cell_type": "code",
   "execution_count": 49,
   "outputs": [],
   "source": [
    "def getSignalForCycle(cycle, cyclesToAdd):\n",
    "    if cyclesToAdd.__contains__(cycle):\n",
    "        return cycle * x\n",
    "    return 0"
   ],
   "metadata": {
    "collapsed": false
   }
  },
  {
   "cell_type": "code",
   "execution_count": 51,
   "outputs": [
    {
     "data": {
      "text/plain": "15220"
     },
     "execution_count": 51,
     "metadata": {},
     "output_type": "execute_result"
    }
   ],
   "source": [
    "x = 1\n",
    "total = 0\n",
    "cycle = 0\n",
    "cyclesToAdd = {20,60,100,140,180,220}\n",
    "for op in input:\n",
    "    cycle += 1\n",
    "    total += getSignalForCycle(cycle,cyclesToAdd)\n",
    "    if op.startswith('addx'):\n",
    "        cycle += 1\n",
    "        total += getSignalForCycle(cycle,cyclesToAdd)\n",
    "        x += int(op.split(' ')[1])\n",
    "total"
   ],
   "metadata": {
    "collapsed": false
   }
  },
  {
   "cell_type": "code",
   "execution_count": 82,
   "outputs": [],
   "source": [],
   "metadata": {
    "collapsed": false
   }
  },
  {
   "cell_type": "code",
   "execution_count": 85,
   "outputs": [
    {
     "name": "stdout",
     "output_type": "stream",
     "text": [
      "###..####.####.####.#..#.###..####..##..\n",
      "#..#.#.......#.#....#.#..#..#.#....#..#.\n",
      "#..#.###....#..###..##...###..###..#..#.\n",
      "###..#.....#...#....#.#..#..#.#....####.\n",
      "#.#..#....#....#....#.#..#..#.#....#..#.\n",
      "#..#.#....####.####.#..#.###..#....#..#.\n"
     ]
    }
   ],
   "source": [
    "x = 1\n",
    "cycle = 0\n",
    "line = ''\n",
    "for op in input:\n",
    "    rowCycle = cycle % 40\n",
    "    if (rowCycle + 1 == x or rowCycle == x or rowCycle - 1 == x):\n",
    "        line += '#'\n",
    "    else:\n",
    "        line += '.'\n",
    "    cycle += 1\n",
    "    if op.startswith('addx'):\n",
    "        rowCycle = cycle % 40\n",
    "        if not cycle % 40:\n",
    "            print(line)\n",
    "            line = ''\n",
    "        if (rowCycle + 1 == x or rowCycle == x or rowCycle - 1 == x):\n",
    "            line += '#'\n",
    "        else:\n",
    "            line += '.'\n",
    "        cycle += 1\n",
    "        x += int(op.split(' ')[1])\n",
    "    if not cycle % 40:\n",
    "        print(line)\n",
    "        line = ''"
   ],
   "metadata": {
    "collapsed": false
   }
  }
 ],
 "metadata": {
  "kernelspec": {
   "display_name": "Python 3",
   "language": "python",
   "name": "python3"
  },
  "language_info": {
   "codemirror_mode": {
    "name": "ipython",
    "version": 2
   },
   "file_extension": ".py",
   "mimetype": "text/x-python",
   "name": "python",
   "nbconvert_exporter": "python",
   "pygments_lexer": "ipython2",
   "version": "2.7.6"
  }
 },
 "nbformat": 4,
 "nbformat_minor": 0
}
