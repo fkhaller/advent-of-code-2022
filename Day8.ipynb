{
 "cells": [
  {
   "cell_type": "code",
   "execution_count": 1,
   "metadata": {
    "collapsed": true
   },
   "outputs": [],
   "source": [
    "with open('C:\\\\advent-of-code-2022\\\\input8.txt') as f:\n",
    "    grid = f.read().splitlines()"
   ]
  },
  {
   "cell_type": "code",
   "execution_count": 2,
   "outputs": [],
   "source": [
    "for i in range(len(grid)):\n",
    "    grid[i] = list(grid[i])"
   ],
   "metadata": {
    "collapsed": false
   }
  },
  {
   "cell_type": "code",
   "execution_count": 3,
   "outputs": [
    {
     "data": {
      "text/plain": "1870"
     },
     "execution_count": 3,
     "metadata": {},
     "output_type": "execute_result"
    }
   ],
   "source": [
    "visibleTrees = 0\n",
    "for i in range(len(grid)):\n",
    "    for j in range(len(grid[0])):\n",
    "        sizeOfTree = int(grid[i][j])\n",
    "        visibleLeft = True\n",
    "        visibleRight = True\n",
    "        visibleUp = True\n",
    "        visibleDown = True\n",
    "        x, y = i, j\n",
    "        while x > 0:\n",
    "            x -= 1\n",
    "            if int(grid[x][y]) >= sizeOfTree:\n",
    "                visibleLeft = False\n",
    "                break\n",
    "        x, y = i, j\n",
    "        while x < len(grid) - 1:\n",
    "            x += 1\n",
    "            if int(grid[x][y]) >= sizeOfTree:\n",
    "                visibleRight = False\n",
    "                break\n",
    "        x, y = i, j\n",
    "        while y > 0:\n",
    "            y -= 1\n",
    "            if int(grid[x][y]) >= sizeOfTree:\n",
    "                visibleUp = False\n",
    "                break\n",
    "        x, y = i, j\n",
    "        while y < len(grid[0]) - 1:\n",
    "            y += 1\n",
    "            if int(grid[x][y]) >= sizeOfTree:\n",
    "                visibleDown = False\n",
    "                break\n",
    "        if visibleLeft or visibleRight or visibleUp or visibleDown: visibleTrees += 1\n",
    "visibleTrees"
   ],
   "metadata": {
    "collapsed": false
   }
  },
  {
   "cell_type": "code",
   "execution_count": 4,
   "outputs": [
    {
     "data": {
      "text/plain": "517440"
     },
     "execution_count": 4,
     "metadata": {},
     "output_type": "execute_result"
    }
   ],
   "source": [
    "scenicScore = 0\n",
    "for i in range(len(grid)):\n",
    "    for j in range(len(grid[0])):\n",
    "        sizeOfTree = int(grid[i][j])\n",
    "        scoreLeft = 0\n",
    "        scoreRight = 0\n",
    "        scoreUp = 0\n",
    "        scoreDown = 0\n",
    "        currentScore = 0\n",
    "        x, y = i, j\n",
    "        while x > 0:\n",
    "            x -= 1\n",
    "            scoreLeft += 1\n",
    "            if int(grid[x][y]) >= sizeOfTree:\n",
    "                break\n",
    "        x, y = i, j\n",
    "        while x < len(grid) - 1:\n",
    "            x += 1\n",
    "            scoreRight += 1\n",
    "            if int(grid[x][y]) >= sizeOfTree:\n",
    "                break\n",
    "        x, y = i, j\n",
    "        while y > 0:\n",
    "            y -= 1\n",
    "            scoreUp += 1\n",
    "            if int(grid[x][y]) >= sizeOfTree:\n",
    "                break\n",
    "        x, y = i, j\n",
    "        while y < len(grid[0]) - 1:\n",
    "            y += 1\n",
    "            scoreDown += 1\n",
    "            if int(grid[x][y]) >= sizeOfTree:\n",
    "                break\n",
    "        currentScore = scoreDown * scoreUp * scoreLeft * scoreRight\n",
    "        if currentScore > scenicScore: scenicScore = currentScore\n",
    "scenicScore"
   ],
   "metadata": {
    "collapsed": false
   }
  },
  {
   "cell_type": "code",
   "execution_count": 4,
   "outputs": [],
   "source": [],
   "metadata": {
    "collapsed": false
   }
  }
 ],
 "metadata": {
  "kernelspec": {
   "display_name": "Python 3",
   "language": "python",
   "name": "python3"
  },
  "language_info": {
   "codemirror_mode": {
    "name": "ipython",
    "version": 2
   },
   "file_extension": ".py",
   "mimetype": "text/x-python",
   "name": "python",
   "nbconvert_exporter": "python",
   "pygments_lexer": "ipython2",
   "version": "2.7.6"
  }
 },
 "nbformat": 4,
 "nbformat_minor": 0
}
