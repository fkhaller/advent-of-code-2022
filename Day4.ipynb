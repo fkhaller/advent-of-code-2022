{
 "cells": [
  {
   "cell_type": "code",
   "execution_count": 30,
   "metadata": {
    "collapsed": true
   },
   "outputs": [],
   "source": [
    "with open('C:\\\\advent-of-code-2022\\\\input4.txt') as f:\n",
    "    input = f.read().splitlines()"
   ]
  },
  {
   "cell_type": "code",
   "execution_count": 68,
   "outputs": [],
   "source": [
    "fullyContainedPairs = 0\n",
    "partialContainedPairs = 0\n",
    "for elfPair in input:\n",
    "    elfPairArray = elfPair.rsplit('-')\n",
    "    elf1Min = int(elfPairArray[0])\n",
    "    elf1Max = int(elfPairArray[1].rsplit(',')[0])\n",
    "    elf2Min = int(elfPairArray[1].rsplit(',')[1])\n",
    "    elf2Max = int(elfPairArray[2])\n",
    "\n",
    "    if (elf1Min >= elf2Min and elf1Max <= elf2Max) or (elf1Min <= elf2Min and elf1Max >= elf2Max):\n",
    "        fullyContainedPairs += 1\n",
    "    if (elf1Min >= elf2Min and elf1Min <= elf2Max) or (elf1Max >= elf2Min and elf1Max <= elf2Max) or\\\n",
    "            (elf2Min >= elf1Min and elf2Min <= elf1Max) or (elf2Max >= elf1Min and elf2Max <= elf1Max):\n",
    "        partialContainedPairs += 1\n"
   ],
   "metadata": {
    "collapsed": false
   }
  },
  {
   "cell_type": "code",
   "execution_count": 69,
   "outputs": [
    {
     "data": {
      "text/plain": "487"
     },
     "execution_count": 69,
     "metadata": {},
     "output_type": "execute_result"
    }
   ],
   "source": [
    "fullyContainedPairs"
   ],
   "metadata": {
    "collapsed": false
   }
  },
  {
   "cell_type": "code",
   "execution_count": 70,
   "outputs": [
    {
     "data": {
      "text/plain": "849"
     },
     "execution_count": 70,
     "metadata": {},
     "output_type": "execute_result"
    }
   ],
   "source": [
    "partialContainedPairs"
   ],
   "metadata": {
    "collapsed": false
   }
  },
  {
   "cell_type": "code",
   "execution_count": null,
   "outputs": [],
   "source": [],
   "metadata": {
    "collapsed": false
   }
  }
 ],
 "metadata": {
  "kernelspec": {
   "display_name": "Python 3",
   "language": "python",
   "name": "python3"
  },
  "language_info": {
   "codemirror_mode": {
    "name": "ipython",
    "version": 2
   },
   "file_extension": ".py",
   "mimetype": "text/x-python",
   "name": "python",
   "nbconvert_exporter": "python",
   "pygments_lexer": "ipython2",
   "version": "2.7.6"
  }
 },
 "nbformat": 4,
 "nbformat_minor": 0
}
